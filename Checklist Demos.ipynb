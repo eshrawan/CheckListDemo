{
 "cells": [
  {
   "cell_type": "markdown",
   "id": "ab20f1fe",
   "metadata": {},
   "source": [
    "capabilities on how it can test models:\n",
    "\n",
    "1. Data Generation\n",
    "2. Data created from existing examples in dataset\n",
    "3. The \"checklist\" of all tests (MFT, INV, DIR)\n",
    "\n",
    "Other:\n",
    "\n",
    "4. The actual process of tests (QQP and BERT tutorial on Github)\n",
    "\n",
    "Testcases (in paper - about 2/3 times more errors shown in the following models):\n",
    "\n",
    "5. Sentiment Analysis\n",
    "6. QQP"
   ]
  },
  {
   "cell_type": "code",
   "execution_count": 1,
   "id": "7d655add",
   "metadata": {},
   "outputs": [],
   "source": [
    "import checklist\n",
    "from checklist.editor import Editor\n",
    "from checklist.perturb import Perturb\n",
    "from checklist.test_types import MFT, INV, DIR\n",
    "from pattern.en import sentiment\n",
    "import numpy as np"
   ]
  },
  {
   "cell_type": "markdown",
   "id": "b787fd3e",
   "metadata": {},
   "source": [
    "# Data Generation"
   ]
  },
  {
   "cell_type": "code",
   "execution_count": 2,
   "id": "5f05ed77",
   "metadata": {},
   "outputs": [],
   "source": [
    "#1. Data Generation\n",
    "editor = Editor()"
   ]
  },
  {
   "cell_type": "code",
   "execution_count": 3,
   "id": "5af9a6f1",
   "metadata": {},
   "outputs": [
    {
     "data": {
      "text/plain": [
       "['This is a good movie.',\n",
       " 'This is a great movie.',\n",
       " 'This is a awesome movie.',\n",
       " 'This is a excellent movie.']"
      ]
     },
     "execution_count": 3,
     "metadata": {},
     "output_type": "execute_result"
    }
   ],
   "source": [
    "#Custom data creation\n",
    "ret = editor.template('This is a {adj} movie.', adj=['good', 'great', 'awesome', 'excellent'])\n",
    "ret.data"
   ]
  },
  {
   "cell_type": "code",
   "execution_count": 4,
   "id": "57460e4b",
   "metadata": {},
   "outputs": [
    {
     "name": "stdout",
     "output_type": "stream",
     "text": [
      "{'question': 'Is this a good movie?', 'context': 'This is a good movie.'}\n",
      "Yes, this is good.\n",
      "\n",
      "{'question': 'Is this a great movie?', 'context': 'This is a great movie.'}\n",
      "Yes, this is great.\n",
      "\n"
     ]
    }
   ],
   "source": [
    "ret = editor.template({'question': 'Is this a {adj} movie?',\n",
    "                       'context': 'This is a {adj} movie.' },\n",
    "                      labels='Yes, this is {adj}.',\n",
    "                      adj=['good', 'great', 'awesome', 'excellent'])\n",
    "print(ret.data[0])\n",
    "print(ret.labels[0])\n",
    "print()\n",
    "print(ret.data[1])\n",
    "print(ret.labels[1])\n",
    "print()"
   ]
  },
  {
   "cell_type": "code",
   "execution_count": 5,
   "id": "5fb15ca8",
   "metadata": {},
   "outputs": [
    {
     "name": "stdout",
     "output_type": "stream",
     "text": [
      "['male', 'female', 'first_name', 'first_pronoun', 'last_name', 'country', 'nationality', 'city', 'religion', 'religion_adj', 'sexual_adj', 'sentiment', 'country_city', 'male_from', 'female_from', 'last_from']\n"
     ]
    }
   ],
   "source": [
    "#Available Lexicons\n",
    "print(list(editor.lexicons.keys()))"
   ]
  },
  {
   "cell_type": "code",
   "execution_count": 6,
   "id": "f130d801",
   "metadata": {},
   "outputs": [
    {
     "data": {
      "text/plain": [
       "['John is not friends with Mary',\n",
       " 'John is not friends with Elizabeth',\n",
       " 'John is not friends with Margaret',\n",
       " 'John is not friends with Sarah']"
      ]
     },
     "execution_count": 6,
     "metadata": {},
     "output_type": "execute_result"
    }
   ],
   "source": [
    "ret = editor.template('{male} is not friends with {female}')\n",
    "ret.data[0:4]"
   ]
  },
  {
   "cell_type": "code",
   "execution_count": 7,
   "id": "439ec5a2",
   "metadata": {},
   "outputs": [],
   "source": [
    "#can add different flags\n",
    "editor.add_lexicon('adj', ['good', 'bad', 'great', 'terrible'])"
   ]
  },
  {
   "cell_type": "code",
   "execution_count": 8,
   "id": "50611cf4",
   "metadata": {},
   "outputs": [
    {
     "data": {
      "text/plain": [
       "['This is a good idea.',\n",
       " 'This is a good example.',\n",
       " 'This is a good sign.',\n",
       " 'This is a good thing.',\n",
       " 'This is a good one.']"
      ]
     },
     "execution_count": 8,
     "metadata": {},
     "output_type": "execute_result"
    }
   ],
   "source": [
    "#MLM capability also available using flag {mask}\n",
    "ret = editor.template('This is {a:adj} {mask}.', remove_duplicates=True)\n",
    "ret.data[:5]"
   ]
  },
  {
   "cell_type": "code",
   "execution_count": 9,
   "id": "34dca396",
   "metadata": {},
   "outputs": [
    {
     "data": {
      "text/plain": [
       "['idea', 'example', 'sign', 'thing', 'one']"
      ]
     },
     "execution_count": 9,
     "metadata": {},
     "output_type": "execute_result"
    }
   ],
   "source": [
    "editor.suggest('This is {a:adj} {mask}.')[:5]"
   ]
  },
  {
   "cell_type": "code",
   "execution_count": 10,
   "id": "9150f634",
   "metadata": {},
   "outputs": [
    {
     "data": {
      "application/vnd.jupyter.widget-view+json": {
       "model_id": "9c1fb925e05842b99d24a44e25c63d5d",
       "version_major": 2,
       "version_minor": 0
      },
      "text/plain": [
       "TemplateEditor(bert_suggests=['amazing', 'excellent', 'interesting', 'awful', 'action', 'awesome', 'incredible…"
      ]
     },
     "metadata": {},
     "output_type": "display_data"
    }
   ],
   "source": [
    "editor.visual_suggest('This is {a:mask} movie.')"
   ]
  },
  {
   "cell_type": "markdown",
   "id": "9cc9a253",
   "metadata": {},
   "source": [
    "# Data Pertubation"
   ]
  },
  {
   "cell_type": "code",
   "execution_count": 11,
   "id": "7a6522f6",
   "metadata": {},
   "outputs": [],
   "source": [
    "#creating example dataset\n",
    "data = ['John is a very smart person, and lives in Ireland.',\n",
    "        'Mark Stewart was born and raised in Chicago',\n",
    "        'Luke Smith has 2 sisters.',\n",
    "        'Mary is not a nurse.',\n",
    "        'Julianne is an engineer.',\n",
    "        'My brother Andrew used to be a doctor.']"
   ]
  },
  {
   "cell_type": "code",
   "execution_count": 12,
   "id": "ce83f98b",
   "metadata": {},
   "outputs": [],
   "source": [
    "#source for function: https://github.com/marcotcr/checklist\n",
    "import re\n",
    "def change_professions(x, *args, **kwargs):\n",
    "    # Returns empty or a list of strings with profesions changed\n",
    "    professions = ['doctor', 'nurse', 'engineer', 'lawyer']\n",
    "    ret = []\n",
    "    for p in professions:\n",
    "        if re.search(r'\\b%s\\b' % p, x):\n",
    "            ret.extend([re.sub(r'\\b%s\\b' % p, p2, x) for p2 in professions if p != p2])\n",
    "    return ret"
   ]
  },
  {
   "cell_type": "code",
   "execution_count": 13,
   "id": "f72223d0",
   "metadata": {},
   "outputs": [
    {
     "data": {
      "text/plain": [
       "['Mary is not a doctor.', 'Mary is not a engineer.', 'Mary is not a lawyer.']"
      ]
     },
     "execution_count": 13,
     "metadata": {},
     "output_type": "execute_result"
    }
   ],
   "source": [
    "change_professions(data[3])"
   ]
  },
  {
   "cell_type": "code",
   "execution_count": 14,
   "id": "3233a0f2",
   "metadata": {},
   "outputs": [],
   "source": [
    "#general use functions in documentation can be also used with spacy\n",
    "import spacy\n",
    "nlp = spacy.load('en_core_web_sm')"
   ]
  },
  {
   "cell_type": "code",
   "execution_count": 15,
   "id": "bb8bfa49",
   "metadata": {},
   "outputs": [],
   "source": [
    "pdata = list(nlp.pipe(data))"
   ]
  },
  {
   "cell_type": "markdown",
   "id": "e25e3031",
   "metadata": {},
   "source": [
    "1. Strip punctuation marks"
   ]
  },
  {
   "cell_type": "code",
   "execution_count": 16,
   "id": "d38daf63",
   "metadata": {},
   "outputs": [
    {
     "data": {
      "text/plain": [
       "[['John is a very smart person, and lives in Ireland.',\n",
       "  'John is a very smart person, and lives in Ireland'],\n",
       " ['Mark Stewart was born and raised in Chicago',\n",
       "  'Mark Stewart was born and raised in Chicago.'],\n",
       " ['Luke Smith has 2 sisters.', 'Luke Smith has 2 sisters'],\n",
       " ['Mary is not a nurse.', 'Mary is not a nurse']]"
      ]
     },
     "execution_count": 16,
     "metadata": {},
     "output_type": "execute_result"
    }
   ],
   "source": [
    "ret = Perturb.perturb(pdata, Perturb.punctuation)\n",
    "ret.data[:4]"
   ]
  },
  {
   "cell_type": "markdown",
   "id": "63a635ad",
   "metadata": {},
   "source": [
    "2. Generate typos"
   ]
  },
  {
   "cell_type": "code",
   "execution_count": 17,
   "id": "6fe9bbf5",
   "metadata": {},
   "outputs": [
    {
     "data": {
      "text/plain": [
       "[['Luke Smith has 2 sisters.', 'Luke Smit hhas 2 sisters.']]"
      ]
     },
     "execution_count": 17,
     "metadata": {},
     "output_type": "execute_result"
    }
   ],
   "source": [
    "ret = Perturb.perturb(data, Perturb.add_typos, nsamples=1)\n",
    "ret.data"
   ]
  },
  {
   "cell_type": "markdown",
   "id": "d5c9d999",
   "metadata": {},
   "source": [
    "3. Working with contractions"
   ]
  },
  {
   "cell_type": "code",
   "execution_count": 18,
   "id": "941de861",
   "metadata": {},
   "outputs": [
    {
     "data": {
      "text/plain": [
       "[['Mary is not a nurse.', \"Mary isn't a nurse.\"]]"
      ]
     },
     "execution_count": 18,
     "metadata": {},
     "output_type": "execute_result"
    }
   ],
   "source": [
    "ret = Perturb.perturb(data, Perturb.contractions)\n",
    "ret.data"
   ]
  },
  {
   "cell_type": "markdown",
   "id": "c62f11c3",
   "metadata": {},
   "source": [
    "4. Changing NE for NER"
   ]
  },
  {
   "cell_type": "code",
   "execution_count": 19,
   "id": "cb57bdb7",
   "metadata": {},
   "outputs": [
    {
     "data": {
      "text/plain": [
       "[['Luke Smith has 2 sisters.',\n",
       "  'Edward Smith has 2 sisters.',\n",
       "  'Joshua Smith has 2 sisters.',\n",
       "  'Alexander Smith has 2 sisters.']]"
      ]
     },
     "execution_count": 19,
     "metadata": {},
     "output_type": "execute_result"
    }
   ],
   "source": [
    "#can specifically edit first and last names, numbers and locations, showing first name functionality here\n",
    "ret = Perturb.perturb(pdata, Perturb.change_names, nsamples=1, first_only=True, n=3)\n",
    "ret.data"
   ]
  },
  {
   "cell_type": "markdown",
   "id": "bf382738",
   "metadata": {},
   "source": [
    "5. Adding/Removing Negation"
   ]
  },
  {
   "cell_type": "code",
   "execution_count": 21,
   "id": "18f56580",
   "metadata": {
    "scrolled": true
   },
   "outputs": [
    {
     "name": "stdout",
     "output_type": "stream",
     "text": [
      "This is not good\n",
      "This is good\n",
      "\n",
      "He didn't play the harmonica\n",
      "He played the harmonica\n",
      "\n",
      "He doesn't play football\n",
      "He plays football\n",
      "\n",
      "She will not be sad\n",
      "She will be sad\n",
      "\n"
     ]
    }
   ],
   "source": [
    "for t in ['This is not good', 'He didn\\'t play the harmonica', 'He doesn\\'t play football', 'She will not be sad']:\n",
    "    print(t)\n",
    "    print(Perturb.remove_negation(nlp(t)))\n",
    "    print()"
   ]
  },
  {
   "cell_type": "markdown",
   "id": "8cce5da5",
   "metadata": {},
   "source": [
    "# Minimum Functionality Test (MFT) "
   ]
  },
  {
   "cell_type": "code",
   "execution_count": 22,
   "id": "c46d1a8e",
   "metadata": {},
   "outputs": [],
   "source": [
    "pos = ['good', 'enjoyable', 'exciting', 'excellent', 'amazing', 'great', 'engaging']\n",
    "neg = ['bad', 'terrible', 'awful', 'horrible']"
   ]
  },
  {
   "cell_type": "code",
   "execution_count": 23,
   "id": "b8569bfe",
   "metadata": {},
   "outputs": [],
   "source": [
    "ret = editor.template('This is not {a:pos} {mask}.', pos=pos, labels=0, save=True, nsamples=100)\n",
    "ret += editor.template('This is not {a:neg} {mask}.', neg=neg, labels=1, save=True, nsamples=100)"
   ]
  },
  {
   "cell_type": "code",
   "execution_count": 24,
   "id": "106f522a",
   "metadata": {},
   "outputs": [],
   "source": [
    "#adapted from Github Demo on https://github.com/marcotcr/checklist/blob/master/notebooks/tutorials/4.%20The%20CheckList%20process.ipynb\n",
    "test = MFT(ret.data, labels=ret.labels, name='Simple negation',\n",
    "           capability='Negation', description='Very simple negations.')"
   ]
  },
  {
   "cell_type": "code",
   "execution_count": 25,
   "id": "2d383721",
   "metadata": {},
   "outputs": [],
   "source": [
    "#sentiment analysis model imported from https://github.com/clips/pattern\n",
    "def predict_proba(inputs):\n",
    "    p1 = np.array([(sentiment(x)[0] + 1)/2. for x in inputs]).reshape(-1, 1)\n",
    "    p0 = 1- p1\n",
    "    return np.hstack((p0, p1))"
   ]
  },
  {
   "cell_type": "code",
   "execution_count": 26,
   "id": "17cc7e12",
   "metadata": {},
   "outputs": [],
   "source": [
    "#checklist uses wrapped fucntions to adapt test to its predictor analysis\n",
    "from checklist.pred_wrapper import PredictorWrapper\n",
    "wrapped_pp = PredictorWrapper.wrap_softmax(predict_proba)"
   ]
  },
  {
   "cell_type": "code",
   "execution_count": 27,
   "id": "5307194a",
   "metadata": {},
   "outputs": [
    {
     "name": "stdout",
     "output_type": "stream",
     "text": [
      "Predicting 200 examples\n",
      "Test cases:      200\n",
      "Fails (rate):    94 (47.0%)\n",
      "\n",
      "Example fails:\n",
      "0.8 This is not an amazing list.\n",
      "----\n",
      "0.0 This is not an awful problem.\n",
      "----\n",
      "0.8 This is not an enjoyable substitute.\n",
      "----\n"
     ]
    }
   ],
   "source": [
    "test.run(wrapped_pp)\n",
    "test.summary()"
   ]
  },
  {
   "cell_type": "code",
   "execution_count": 28,
   "id": "baa6b6c8",
   "metadata": {},
   "outputs": [
    {
     "data": {
      "application/vnd.jupyter.widget-view+json": {
       "model_id": "820baeef8f8a44859760fca35cfb258d",
       "version_major": 2,
       "version_minor": 0
      },
      "text/plain": [
       "TestSummarizer(stats={'npassed': 106, 'nfailed': 94, 'nfiltered': 0}, summarizer={'name': 'Simple negation', '…"
      ]
     },
     "metadata": {},
     "output_type": "display_data"
    }
   ],
   "source": [
    "test.visual_summary()"
   ]
  },
  {
   "cell_type": "markdown",
   "id": "542460db",
   "metadata": {},
   "source": [
    "In terms of additional functionality, tests can also be soft maxed from native files, using the run_from_file() function."
   ]
  },
  {
   "cell_type": "markdown",
   "id": "1aecc0ff",
   "metadata": {},
   "source": [
    "# INV Tests (should showcase same behavior) "
   ]
  },
  {
   "cell_type": "code",
   "execution_count": 29,
   "id": "583760bb",
   "metadata": {},
   "outputs": [],
   "source": [
    "#creating new dataset, movie statements\n",
    "dataset = ['This was a very nice movie directed by John Smith.',\n",
    "           'Mary Keen was amazing.', \n",
    "          'I hated everything about this.',\n",
    "          'This movie was terrible.',\n",
    "          'I really liked this movie.',\n",
    "          'just bad.',\n",
    "          'amazing.',\n",
    "          ]\n",
    "pdataset = list(nlp.pipe(dataset))"
   ]
  },
  {
   "cell_type": "code",
   "execution_count": 30,
   "id": "0a9e2332",
   "metadata": {},
   "outputs": [],
   "source": [
    "#similar process of creating pertubed data using checklist's function. Adding typos\n",
    "#IMP: have to refer to a dictionary, cannot directly call a fucntion\n",
    "t_dict = Perturb.perturb(dataset, Perturb.add_typos)\n",
    "test = INV(**t_dict)"
   ]
  },
  {
   "cell_type": "code",
   "execution_count": 31,
   "id": "ba9ac19d",
   "metadata": {},
   "outputs": [
    {
     "name": "stdout",
     "output_type": "stream",
     "text": [
      "Predicting 14 examples\n",
      "Test cases:      7\n",
      "Fails (rate):    2 (28.6%)\n",
      "\n",
      "Example fails:\n",
      "0.8 amazing.\n",
      "0.5 amazin.g\n",
      "\n",
      "----\n",
      "0.8 Mary Keen was amazing.\n",
      "0.5 Mary Keen was amzaing.\n",
      "\n",
      "----\n"
     ]
    }
   ],
   "source": [
    "test.run(wrapped_pp)\n",
    "test.summary()"
   ]
  },
  {
   "cell_type": "code",
   "execution_count": 32,
   "id": "fe9c83bc",
   "metadata": {},
   "outputs": [
    {
     "data": {
      "application/vnd.jupyter.widget-view+json": {
       "model_id": "7640479ebf7e4e8596a6054af3373e25",
       "version_major": 2,
       "version_minor": 0
      },
      "text/plain": [
       "TestSummarizer(stats={'npassed': 5, 'nfailed': 2, 'nfiltered': 0}, summarizer={'name': None, 'description': No…"
      ]
     },
     "metadata": {},
     "output_type": "display_data"
    }
   ],
   "source": [
    "test.visual_summary()"
   ]
  },
  {
   "cell_type": "markdown",
   "id": "c8d2da2e",
   "metadata": {},
   "source": [
    "# DIR tests (specific behavior expectation analysis)"
   ]
  },
  {
   "cell_type": "code",
   "execution_count": 33,
   "id": "e07d434c",
   "metadata": {},
   "outputs": [],
   "source": [
    "#allows tests on paired and singular example cases, allows use of custom expectation functions as well\n",
    "from checklist.expect import Expect\n",
    "def changed_pred(orig_pred, pred, orig_conf, conf, labels=None, meta=None):\n",
    "    return pred != orig_pred\n",
    "expect_fn = Expect.pairwise(changed_pred)"
   ]
  },
  {
   "cell_type": "code",
   "execution_count": 34,
   "id": "af1abea7",
   "metadata": {},
   "outputs": [],
   "source": [
    "t = Perturb.perturb(pdataset, Perturb.add_negation)"
   ]
  },
  {
   "cell_type": "code",
   "execution_count": 35,
   "id": "1c023f8c",
   "metadata": {},
   "outputs": [
    {
     "name": "stdout",
     "output_type": "stream",
     "text": [
      "Predicting 10 examples\n"
     ]
    },
    {
     "data": {
      "application/vnd.jupyter.widget-view+json": {
       "model_id": "af58cce00f4c4d82b121bb1c1209194a",
       "version_major": 2,
       "version_minor": 0
      },
      "text/plain": [
       "TestSummarizer(stats={'npassed': 4, 'nfailed': 1, 'nfiltered': 0}, summarizer={'name': None, 'description': No…"
      ]
     },
     "metadata": {},
     "output_type": "display_data"
    }
   ],
   "source": [
    "test = DIR(**t, expect=expect_fn)\n",
    "test.run(wrapped_pp)\n",
    "test.visual_summary()"
   ]
  },
  {
   "cell_type": "code",
   "execution_count": null,
   "id": "62dfe623",
   "metadata": {},
   "outputs": [],
   "source": []
  }
 ],
 "metadata": {
  "kernelspec": {
   "display_name": "Python 3",
   "language": "python",
   "name": "python3"
  },
  "language_info": {
   "codemirror_mode": {
    "name": "ipython",
    "version": 3
   },
   "file_extension": ".py",
   "mimetype": "text/x-python",
   "name": "python",
   "nbconvert_exporter": "python",
   "pygments_lexer": "ipython3",
   "version": "3.8.8"
  }
 },
 "nbformat": 4,
 "nbformat_minor": 5
}
